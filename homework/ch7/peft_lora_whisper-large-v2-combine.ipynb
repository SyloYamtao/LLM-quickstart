{
 "cells": [
  {
   "cell_type": "markdown",
   "id": "22ab8aab-ada6-4c98-9588-969449c35828",
   "metadata": {},
   "source": [
    "```console\n",
    "(base) root@notebook-7bc42cfb-81fb-47ef-a08c-c0cdca223bba-0:~/.cache# lscpu\n",
    "Architecture:                    x86_64\n",
    "CPU op-mode(s):                  32-bit, 64-bit\n",
    "Byte Order:                      Little Endian\n",
    "Address sizes:                   52 bits physical, 57 bits virtual\n",
    "CPU(s):                          144\n",
    "On-line CPU(s) list:             0-143\n",
    "Thread(s) per core:              2\n",
    "Core(s) per socket:              36\n",
    "Socket(s):                       2\n",
    "NUMA node(s):                    2\n",
    "Vendor ID:                       GenuineIntel\n",
    "CPU family:                      6\n",
    "Model:                           106\n",
    "Model name:                      Intel(R) Xeon(R) Platinum 8352V CPU @ 2.10GHz\n",
    "Stepping:                        6\n",
    "CPU MHz:                         804.863\n",
    "CPU max MHz:                     3500.0000\n",
    "CPU min MHz:                     800.0000\n",
    "BogoMIPS:                        4200.00\n",
    "Virtualization:                  VT-x\n",
    "L1d cache:                       3.4 MiB\n",
    "L1i cache:                       2.3 MiB\n",
    "L2 cache:                        90 MiB\n",
    "L3 cache:                        108 MiB\n",
    "NUMA node0 CPU(s):               0-35,72-107\n",
    "NUMA node1 CPU(s):               36-71,108-143\n",
    "Vulnerability Itlb multihit:     Not affected\n",
    "Vulnerability L1tf:              Not affected\n",
    "Vulnerability Mds:               Not affected\n",
    "Vulnerability Meltdown:          Not affected\n",
    "Vulnerability Spec store bypass: Mitigation; Speculative Store Bypass disabled via prctl and seccomp\n",
    "Vulnerability Spectre v1:        Mitigation; usercopy/swapgs barriers and __user pointer sanitization\n",
    "Vulnerability Spectre v2:        Mitigation; Enhanced IBRS, IBPB conditional, RSB filling\n",
    "Vulnerability Srbds:             Not affected\n",
    "Vulnerability Tsx async abort:   Not affected\n",
    "Flags:                           fpu vme de pse tsc msr pae mce cx8 apic sep mtrr pge mca cmov pat pse36 clflush dts acpi mmx fxsr sse sse2 ss ht tm pbe syscall nx pdpe1gb rdtscp lm constant_tsc art arch_perfmon pebs bts rep_good \n",
    "                                 nopl xtopology nonstop_tsc cpuid aperfmperf pni pclmulqdq dtes64 monitor ds_cpl vmx smx est tm2 ssse3 sdbg fma cx16 xtpr pdcm pcid dca sse4_1 sse4_2 x2apic movbe popcnt tsc_deadline_timer aes xsave\n",
    "                                  avx f16c rdrand lahf_lm abm 3dnowprefetch cpuid_fault epb cat_l3 invpcid_single ssbd mba ibrs ibpb stibp ibrs_enhanced tpr_shadow vnmi flexpriority ept vpid ept_ad fsgsbase tsc_adjust bmi1 avx2 sm\n",
    "                                 ep bmi2 erms invpcid cqm rdt_a avx512f avx512dq rdseed adx smap avx512ifma clflushopt clwb intel_pt avx512cd sha_ni avx512bw avx512vl xsaveopt xsavec xgetbv1 xsaves cqm_llc cqm_occup_llc cqm_mbm_to\n",
    "                                 tal cqm_mbm_local wbnoinvd dtherm ida arat pln pts hwp hwp_act_window hwp_epp hwp_pkg_req avx512vbmi umip pku ospke avx512_vbmi2 gfni vaes vpclmulqdq avx512_vnni avx512_bitalg tme avx512_vpopcntdq \n",
    "                                 rdpid md_clear pconfig flush_l1d arch_capabilities\n",
    "```"
   ]
  },
  {
   "cell_type": "code",
   "execution_count": null,
   "id": "a419ff63-a9d0-40ea-93d9-b2a758676287",
   "metadata": {},
   "outputs": [],
   "source": [
    "Sat Jun 29 03:55:44 2024       \n",
    "+---------------------------------------------------------------------------------------+\n",
    "| NVIDIA-SMI 535.129.03             Driver Version: 535.129.03   CUDA Version: 12.2     |\n",
    "|-----------------------------------------+----------------------+----------------------+\n",
    "| GPU  Name                 Persistence-M | Bus-Id        Disp.A | Volatile Uncorr. ECC |\n",
    "| Fan  Temp   Perf          Pwr:Usage/Cap |         Memory-Usage | GPU-Util  Compute M. |\n",
    "|                                         |                      |               MIG M. |\n",
    "|=========================================+======================+======================|\n",
    "|   0  NVIDIA GeForce RTX 4090        Off | 00000000:15:00.0 Off |                  Off |\n",
    "| 30%   47C    P2             321W / 450W |  12615MiB / 24564MiB |     99%      Default |\n",
    "|                                         |                      |                  N/A |\n",
    "+-----------------------------------------+----------------------+----------------------+\n",
    "|   1  NVIDIA GeForce RTX 4090        Off | 00000000:18:00.0 Off |                  Off |\n",
    "| 30%   36C    P2              56W / 450W |   5663MiB / 24564MiB |      0%      Default |\n",
    "|                                         |                      |                  N/A |\n",
    "+-----------------------------------------+----------------------+----------------------+\n",
    "                                                                                         \n",
    "+---------------------------------------------------------------------------------------+\n",
    "| Processes:                                                                            |\n",
    "|  GPU   GI   CI        PID   Type   Process name                            GPU Memory |\n",
    "|        ID   ID                                                             Usage      |\n",
    "|=======================================================================================|\n",
    "+---------------------------------------------------------------------------------------+"
   ]
  },
  {
   "cell_type": "code",
   "execution_count": 1,
   "id": "d987a985-0677-4e5f-b5a5-ac7ddb6a87c6",
   "metadata": {},
   "outputs": [
    {
     "name": "stderr",
     "output_type": "stream",
     "text": [
      "/root/.local/lib/python3.10/site-packages/tqdm/auto.py:21: TqdmWarning: IProgress not found. Please update jupyter and ipywidgets. See https://ipywidgets.readthedocs.io/en/stable/user_install.html\n",
      "  from .autonotebook import tqdm as notebook_tqdm\n"
     ]
    },
    {
     "name": "stdout",
     "output_type": "stream",
     "text": [
      "数据集加载完成\n",
      "1\n"
     ]
    },
    {
     "name": "stderr",
     "output_type": "stream",
     "text": [
      "Special tokens have been added in the vocabulary, make sure the associated word embeddings are fine-tuned or trained.\n",
      "Special tokens have been added in the vocabulary, make sure the associated word embeddings are fine-tuned or trained.\n"
     ]
    },
    {
     "name": "stdout",
     "output_type": "stream",
     "text": [
      "2\n",
      "3\n",
      "数据预处理完成\n"
     ]
    },
    {
     "name": "stderr",
     "output_type": "stream",
     "text": [
      "Map (num_proc=2): 100%|██████████| 29056/29056 [43:52<00:00, 11.04 examples/s]   \n",
      "Map (num_proc=2): 100%|██████████| 10581/10581 [16:55<00:00, 10.42 examples/s]  \n"
     ]
    },
    {
     "name": "stdout",
     "output_type": "stream",
     "text": [
      "数据预处理应用完成\n",
      "数据整理器实例化完成\n"
     ]
    },
    {
     "name": "stderr",
     "output_type": "stream",
     "text": [
      "/root/.local/lib/python3.10/site-packages/peft/utils/other.py:141: FutureWarning: prepare_model_for_int8_training is deprecated and will be removed in a future version. Use prepare_model_for_kbit_training instead.\n",
      "  warnings.warn(\n",
      "Detected kernel version 5.4.0, which is below the recommended minimum of 5.5.0; this can cause the process to hang. It is recommended to upgrade the kernel to the minimum version or higher.\n"
     ]
    },
    {
     "name": "stdout",
     "output_type": "stream",
     "text": [
      "模型加载和配置完成\n",
      "LoRA配置完成\n"
     ]
    },
    {
     "name": "stderr",
     "output_type": "stream",
     "text": [
      "/root/.local/lib/python3.10/site-packages/torch/utils/checkpoint.py:464: UserWarning: torch.utils.checkpoint: the use_reentrant parameter should be passed explicitly. In version 2.4 we will raise an exception if use_reentrant is not passed. use_reentrant=False is recommended, but if you need to preserve the current default behavior, you can pass use_reentrant=True. Refer to docs for more details on the differences between the two variants.\n",
      "  warnings.warn(\n",
      "/root/.local/lib/python3.10/site-packages/torch/utils/checkpoint.py:91: UserWarning: None of the inputs have requires_grad=True. Gradients will be None\n",
      "  warnings.warn(\n",
      "/root/.local/lib/python3.10/site-packages/bitsandbytes/autograd/_functions.py:316: UserWarning: MatMul8bitLt: inputs will be cast from torch.float32 to float16 during quantization\n",
      "  warnings.warn(f\"MatMul8bitLt: inputs will be cast from {A.dtype} to float16 during quantization\")\n"
     ]
    },
    {
     "data": {
      "text/html": [
       "\n",
       "    <div>\n",
       "      \n",
       "      <progress value='454' max='454' style='width:300px; height:20px; vertical-align: middle;'></progress>\n",
       "      [454/454 2:42:14, Epoch 1/1]\n",
       "    </div>\n",
       "    <table border=\"1\" class=\"dataframe\">\n",
       "  <thead>\n",
       " <tr style=\"text-align: left;\">\n",
       "      <th>Epoch</th>\n",
       "      <th>Training Loss</th>\n",
       "      <th>Validation Loss</th>\n",
       "    </tr>\n",
       "  </thead>\n",
       "  <tbody>\n",
       "    <tr>\n",
       "      <td>1</td>\n",
       "      <td>0.327500</td>\n",
       "      <td>0.384317</td>\n",
       "    </tr>\n",
       "  </tbody>\n",
       "</table><p>"
      ],
      "text/plain": [
       "<IPython.core.display.HTML object>"
      ]
     },
     "metadata": {},
     "output_type": "display_data"
    },
    {
     "name": "stdout",
     "output_type": "stream",
     "text": [
      "模型训练和保存完成\n"
     ]
    },
    {
     "ename": "NameError",
     "evalue": "name 'PeftConfig' is not defined",
     "output_type": "error",
     "traceback": [
      "\u001b[0;31m---------------------------------------------------------------------------\u001b[0m",
      "\u001b[0;31mNameError\u001b[0m                                 Traceback (most recent call last)",
      "Cell \u001b[0;32mIn[1], line 107\u001b[0m\n\u001b[1;32m    104\u001b[0m peft_model\u001b[38;5;241m.\u001b[39meval()\n\u001b[1;32m    106\u001b[0m \u001b[38;5;66;03m# 推理（可能需要重启 Notebook 来清除内存）\u001b[39;00m\n\u001b[0;32m--> 107\u001b[0m peft_config \u001b[38;5;241m=\u001b[39m \u001b[43mPeftConfig\u001b[49m\u001b[38;5;241m.\u001b[39mfrom_pretrained(model_dir)\n\u001b[1;32m    108\u001b[0m base_model \u001b[38;5;241m=\u001b[39m AutoModelForSpeechSeq2Seq\u001b[38;5;241m.\u001b[39mfrom_pretrained(peft_config\u001b[38;5;241m.\u001b[39mbase_model_name_or_path, load_in_8bit\u001b[38;5;241m=\u001b[39m\u001b[38;5;28;01mTrue\u001b[39;00m, device_map\u001b[38;5;241m=\u001b[39m\u001b[38;5;124m\"\u001b[39m\u001b[38;5;124mauto\u001b[39m\u001b[38;5;124m\"\u001b[39m)\n\u001b[1;32m    109\u001b[0m peft_model \u001b[38;5;241m=\u001b[39m PeftModel\u001b[38;5;241m.\u001b[39mfrom_pretrained(base_model, model_dir)\n",
      "\u001b[0;31mNameError\u001b[0m: name 'PeftConfig' is not defined"
     ]
    }
   ],
   "source": [
    "# 导入必要的库\n",
    "from datasets import load_dataset, DatasetDict, Audio\n",
    "from transformers import AutoFeatureExtractor, AutoTokenizer, AutoProcessor, AutoModelForSpeechSeq2Seq, Seq2SeqTrainingArguments, Seq2SeqTrainer\n",
    "from peft import prepare_model_for_int8_training, LoraConfig, get_peft_model, PeftModel ,PeftConfig\n",
    "import torch\n",
    "from dataclasses import dataclass\n",
    "from typing import Any, Dict, List, Union\n",
    "\n",
    "# 全局参数设置\n",
    "base_path = \"/root/dataDisk/hf/hub\"\n",
    "model_name_or_path = base_path + \"/models/whisper-large-v2\"\n",
    "model_dir = \"models/whisper-large-v2-asr-int8\"\n",
    "language = \"Chinese (China)\"\n",
    "language_abbr = \"zh-CN\"\n",
    "task = \"transcribe\"\n",
    "dataset_path = base_path +\"/datasets/common_voice_11_0/\"\n",
    "batch_size = 64\n",
    "\n",
    "# 加载数据集\n",
    "common_voice = DatasetDict()\n",
    "common_voice[\"train\"] = load_dataset(dataset_path+\"common_voice_11_0.py\", language_abbr, split=\"train\", cache_dir=dataset_path, trust_remote_code=True)\n",
    "common_voice[\"validation\"] = load_dataset(dataset_path+\"common_voice_11_0.py\", language_abbr, split=\"validation\", cache_dir=dataset_path,trust_remote_code=True)\n",
    "\n",
    "print(\"数据集加载完成\")\n",
    "\n",
    "# 数据预处理\n",
    "feature_extractor = AutoFeatureExtractor.from_pretrained(model_name_or_path)\n",
    "print(\"1\")\n",
    "tokenizer = AutoTokenizer.from_pretrained(model_name_or_path, language=language, task=task)\n",
    "print(\"2\")\n",
    "processor = AutoProcessor.from_pretrained(model_name_or_path, language=language, task=task)\n",
    "print(\"3\")\n",
    "\n",
    "\n",
    "# 移除数据集中不必要的字段\n",
    "common_voice = common_voice.remove_columns([\"accent\", \"age\", \"client_id\", \"down_votes\", \"gender\", \"locale\", \"path\", \"segment\", \"up_votes\"])\n",
    "common_voice = common_voice.cast_column(\"audio\", Audio(sampling_rate=16000))\n",
    "\n",
    "print(\"数据预处理完成\")\n",
    "\n",
    "# 数据预处理函数\n",
    "def prepare_dataset(batch):\n",
    "    audio = batch[\"audio\"]\n",
    "    batch[\"input_features\"] = feature_extractor(audio[\"array\"], sampling_rate=audio[\"sampling_rate\"]).input_features[0]\n",
    "    batch[\"labels\"] = tokenizer(batch[\"sentence\"]).input_ids\n",
    "    return batch\n",
    "\n",
    "# 应用数据预处理\n",
    "tokenized_common_voice = common_voice.map(prepare_dataset,num_proc=2)\n",
    "\n",
    "print(\"数据预处理应用完成\")\n",
    "\n",
    "# 数据整理器定义\n",
    "@dataclass\n",
    "class DataCollatorSpeechSeq2SeqWithPadding:\n",
    "    processor: Any\n",
    "\n",
    "    def __call__(self, features: List[Dict[str, Union[List[int], torch.Tensor]]]) -> Dict[str, torch.Tensor]:\n",
    "        input_features = [{\"input_features\": feature[\"input_features\"]} for feature in features]\n",
    "        batch = self.processor.feature_extractor.pad(input_features, return_tensors=\"pt\")\n",
    "        label_features = [{\"input_ids\": feature[\"labels\"]} for feature in features]\n",
    "        labels_batch = self.processor.tokenizer.pad(label_features, return_tensors=\"pt\")\n",
    "        labels = labels_batch[\"input_ids\"].masked_fill(labels_batch.attention_mask.ne(1), -100)\n",
    "        if (labels[:, 0] == self.processor.tokenizer.bos_token_id).all().cpu().item():\n",
    "            labels = labels[:, 1:]\n",
    "        batch[\"labels\"] = labels\n",
    "        return batch\n",
    "\n",
    "data_collator = DataCollatorSpeechSeq2SeqWithPadding(processor=processor)\n",
    "\n",
    "print(\"数据整理器实例化完成\")\n",
    "\n",
    "# 加载和配置模型\n",
    "model = AutoModelForSpeechSeq2Seq.from_pretrained(model_name_or_path, load_in_8bit=True, device_map=\"auto\")\n",
    "model = prepare_model_for_int8_training(model)\n",
    "\n",
    "print(\"模型加载和配置完成\")\n",
    "\n",
    "# LoRA配置\n",
    "config = LoraConfig(\n",
    "    r=4, lora_alpha=64, target_modules=[\"q_proj\", \"v_proj\"], lora_dropout=0.05, bias=\"none\"\n",
    ")\n",
    "peft_model = get_peft_model(model, config)\n",
    "\n",
    "print(\"LoRA配置完成\")\n",
    "\n",
    "# 训练设置\n",
    "training_args = Seq2SeqTrainingArguments(\n",
    "    output_dir=model_dir, per_device_train_batch_size=batch_size, learning_rate=1e-3,\n",
    "    num_train_epochs=1, evaluation_strategy=\"epoch\", per_device_eval_batch_size=batch_size,\n",
    "    generation_max_length=128, logging_steps=10, remove_unused_columns=False, label_names=[\"labels\"]\n",
    ")\n",
    "\n",
    "trainer = Seq2SeqTrainer(\n",
    "    args=training_args, model=peft_model, train_dataset=tokenized_common_voice[\"train\"],\n",
    "    eval_dataset=tokenized_common_voice[\"validation\"], data_collator=data_collator, tokenizer=processor.feature_extractor\n",
    ")\n",
    "peft_model.config.use_cache = False\n",
    "trainer.train()\n",
    "trainer.save_model(model_dir)\n",
    "\n",
    "print(\"模型训练和保存完成\")\n",
    "\n",
    "peft_model.eval()\n",
    "\n",
    "# 推理（可能需要重启 Notebook 来清除内存）\n",
    "peft_config = PeftConfig.from_pretrained(model_dir)\n",
    "base_model = AutoModelForSpeechSeq2Seq.from_pretrained(peft_config.base_model_name_or_path, load_in_8bit=True, device_map=\"auto\")\n",
    "peft_model = PeftModel.from_pretrained(base_model, model_dir)\n",
    "tokenizer = AutoTokenizer.from_pretrained(peft_config.base_model_name_or_path, language=language, task=task)\n",
    "processor = AutoProcessor.from_pretrained(peft_config.base_model_name_or_path, language=language, task=task)\n",
    "feature_extractor = processor.feature_extractor\n",
    "\n",
    "# 语音识别管道\n",
    "test_audio = \"data/audio/test_zh.flac\"\n",
    "from transformers import AutomaticSpeechRecognitionPipeline\n",
    "pipeline = AutomaticSpeechRecognitionPipeline(model=peft_model, tokenizer=tokenizer, feature_extractor=feature_extractor)\n",
    "with torch.cuda.amp.autocast():\n",
    "    text = pipeline(test_audio, max_new_tokens=255)[\"text\"]\n",
    "print(text)"
   ]
  },
  {
   "cell_type": "markdown",
   "id": "b730a830-872b-44e4-8ad1-731891917f38",
   "metadata": {},
   "source": [
    "### 运行结果\n",
    "```PLAINTEXT\n",
    "/root/.local/lib/python3.10/site-packages/tqdm/auto.py:21: TqdmWarning: IProgress not found. Please update jupyter and ipywidgets. See https://ipywidgets.readthedocs.io/en/stable/user_install.html\n",
    "  from .autonotebook import tqdm as notebook_tqdm\n",
    "数据集加载完成\n",
    "1\n",
    "Special tokens have been added in the vocabulary, make sure the associated word embeddings are fine-tuned or trained.\n",
    "Special tokens have been added in the vocabulary, make sure the associated word embeddings are fine-tuned or trained.\n",
    "2\n",
    "3\n",
    "数据预处理完成\n",
    "Map (num_proc=2): 100%|██████████| 29056/29056 [43:52<00:00, 11.04 examples/s]   \n",
    "Map (num_proc=2): 100%|██████████| 10581/10581 [16:55<00:00, 10.42 examples/s]  \n",
    "数据预处理应用完成\n",
    "数据整理器实例化完成\n",
    "/root/.local/lib/python3.10/site-packages/peft/utils/other.py:141: FutureWarning: prepare_model_for_int8_training is deprecated and will be removed in a future version. Use prepare_model_for_kbit_training instead.\n",
    "  warnings.warn(\n",
    "Detected kernel version 5.4.0, which is below the recommended minimum of 5.5.0; this can cause the process to hang. It is recommended to upgrade the kernel to the minimum version or higher.\n",
    "模型加载和配置完成\n",
    "LoRA配置完成\n",
    "/root/.local/lib/python3.10/site-packages/torch/utils/checkpoint.py:464: UserWarning: torch.utils.checkpoint: the use_reentrant parameter should be passed explicitly. In version 2.4 we will raise an exception if use_reentrant is not passed. use_reentrant=False is recommended, but if you need to preserve the current default behavior, you can pass use_reentrant=True. Refer to docs for more details on the differences between the two variants.\n",
    "  warnings.warn(\n",
    "/root/.local/lib/python3.10/site-packages/torch/utils/checkpoint.py:91: UserWarning: None of the inputs have requires_grad=True. Gradients will be None\n",
    "  warnings.warn(\n",
    "/root/.local/lib/python3.10/site-packages/bitsandbytes/autograd/_functions.py:316: UserWarning: MatMul8bitLt: inputs will be cast from torch.float32 to float16 during quantization\n",
    "  warnings.warn(f\"MatMul8bitLt: inputs will be cast from {A.dtype} to float16 during quantization\")\n",
    " [454/454 2:42:14, Epoch 1/1]\n",
    "Epoch\tTraining Loss\tValidation Loss\n",
    "1\t0.327500\t0.384317\n",
    "模型训练和保存完成\n",
    "---------------------------------------------------------------------------\n",
    "NameError                                 Traceback (most recent call last)\n",
    "Cell In[1], line 107\n",
    "    104 peft_model.eval()\n",
    "    106 # 推理（可能需要重启 Notebook 来清除内存）\n",
    "--> 107 peft_config = PeftConfig.from_pretrained(model_dir)\n",
    "    108 base_model = AutoModelForSpeechSeq2Seq.from_pretrained(peft_config.base_model_name_or_path, load_in_8bit=True, device_map=\"auto\")\n",
    "    109 peft_model = PeftModel.from_pretrained(base_model, model_dir)\n",
    "\n",
    "NameError: name 'PeftConfig' is not defined\n",
    "```"
   ]
  }
 ],
 "metadata": {
  "kernelspec": {
   "display_name": "new_peft",
   "language": "python",
   "name": "new_peft"
  },
  "language_info": {
   "codemirror_mode": {
    "name": "ipython",
    "version": 3
   },
   "file_extension": ".py",
   "mimetype": "text/x-python",
   "name": "python",
   "nbconvert_exporter": "python",
   "pygments_lexer": "ipython3",
   "version": "3.10.14"
  }
 },
 "nbformat": 4,
 "nbformat_minor": 5
}
